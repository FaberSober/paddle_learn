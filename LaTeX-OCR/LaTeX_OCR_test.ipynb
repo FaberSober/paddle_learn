{
  "cells": [
    {
      "cell_type": "markdown",
      "metadata": {},
      "source": [
        "使用pix2tex需要下载github文件，如果下载失败，则修改本地文件/root/miniconda3/envs/paddle_learn/lib/python3.8/site-packages/pix2tex/model/checkpoints/get_latest_checkpoint.py（需要寻找自己环境下的对应文件）。修改如下：\n",
        "```python\n",
        "weights = 'https://github.com/lukas-blecher/LaTeX-OCR/releases/download/%s/weights.pth' % tag\n",
        "resizer = 'https://github.com/lukas-blecher/LaTeX-OCR/releases/download/%s/image_resizer.pth' % tag\n",
        "```\n",
        "\n",
        "修改为：\n",
        "```python\n",
        "weights = 'http://file.qiniu.test.dward.cn/ai/ocr/LaTeX-OCR/v0.0.1/weights.pth'\n",
        "resizer = 'http://file.qiniu.test.dward.cn/ai/ocr/LaTeX-OCR/v0.0.1/image_resizer.pth'\n",
        "```"
      ]
    },
    {
      "cell_type": "code",
      "execution_count": 6,
      "metadata": {},
      "outputs": [
        {
          "name": "stdout",
          "output_type": "stream",
          "text": [
            "\\alpha_{\\theta_{2}}=\\left(\\frac{U_{c}-U_{d}}{t_{c}-t_{d}}\\right)\\times\\frac{100}{U_{c}}\\dots\\dots\\dots\\dots\\dots\\dots\\dots\\dots\\dots\\dots\\dots\\dots\\dots\\dots\\dots\\dots\\dots\\dots\\dots\\dots\\dots\n"
          ]
        }
      ],
      "source": [
        "from PIL import Image\n",
        "from pix2tex.cli import LatexOCR\n",
        "\n",
        "img = Image.open('./data/formula3.png')\n",
        "model = LatexOCR()\n",
        "print(model(img))"
      ]
    },
    {
      "cell_type": "markdown",
      "metadata": {},
      "source": [
        "x=\\frac{-b\\pm\\sqrt{b^{2}-4a c}}{2a}\n",
        "\n",
        "x={\\frac{-b\\pm{\\sqrt{b^{2}-4a c\\ }}}{2a}}"
      ]
    }
  ],
  "metadata": {
    "colab": {
      "collapsed_sections": [],
      "name": "LaTeX OCR test.ipynb",
      "provenance": []
    },
    "kernelspec": {
      "display_name": "Python 3",
      "name": "python3"
    },
    "language_info": {
      "codemirror_mode": {
        "name": "ipython",
        "version": 3
      },
      "file_extension": ".py",
      "mimetype": "text/x-python",
      "name": "python",
      "nbconvert_exporter": "python",
      "pygments_lexer": "ipython3",
      "version": "3.8.18"
    }
  },
  "nbformat": 4,
  "nbformat_minor": 0
}
