{
 "cells": [
  {
   "cell_type": "markdown",
   "metadata": {},
   "source": [
    "训练一个图像分类器\n",
    "----------------------------\n",
    "\n",
    "依次按照下列顺序进行：\n",
    "\n",
    "1. 数据：建立训练+测试数据集。使用``torchvision``加载和归一化CIFAR10训练集和测试集\n",
    "2. 建模：定义一个卷积神经网络\n",
    "3. 损失：定义损失函数\n",
    "4. 训练：在训练集上训练网络\n",
    "5. 测试：在测试集上测试网络"
   ]
  },
  {
   "cell_type": "code",
   "execution_count": 1,
   "metadata": {},
   "outputs": [],
   "source": [
    "import torch\n",
    "import torchvision\n",
    "import torchvision.transforms as transforms"
   ]
  },
  {
   "cell_type": "markdown",
   "metadata": {},
   "source": [
    "## 0.硬件环境确认"
   ]
  },
  {
   "cell_type": "code",
   "execution_count": 2,
   "metadata": {},
   "outputs": [
    {
     "name": "stdout",
     "output_type": "stream",
     "text": [
      "cuda:0\n"
     ]
    }
   ],
   "source": [
    "device = torch.device(\"cuda:0\" if torch.cuda.is_available() else \"cpu\")\n",
    "\n",
    "# 确认我们的电脑支持CUDA，然后显示CUDA信息：\n",
    "print(device)"
   ]
  },
  {
   "cell_type": "markdown",
   "metadata": {},
   "source": [
    "## 1.数据：建立训练+测试数据集\n",
    "----------------------------------------\n",
    "\n",
    "使用``torchvision``可以非常容易地加载CIFAR10。    \n",
    "torchvision的输出是[0,1]的PILImage图像，我们把它转换为归一化范围为[-1, 1]的张量。"
   ]
  },
  {
   "cell_type": "code",
   "execution_count": 3,
   "metadata": {},
   "outputs": [
    {
     "name": "stdout",
     "output_type": "stream",
     "text": [
      "Files already downloaded and verified\n",
      "Files already downloaded and verified\n"
     ]
    }
   ],
   "source": [
    "transform = transforms.Compose(\n",
    "    [transforms.ToTensor(),\n",
    "     transforms.Normalize((0.5, 0.5, 0.5), (0.5, 0.5, 0.5))])\n",
    "\n",
    "batch_size = 4\n",
    "\n",
    "trainset = torchvision.datasets.CIFAR10(root='./data', train=True,\n",
    "                                        download=True, transform=transform)\n",
    "trainloader = torch.utils.data.DataLoader(trainset, batch_size=batch_size,\n",
    "                                          shuffle=True, num_workers=2)\n",
    "\n",
    "testset = torchvision.datasets.CIFAR10(root='./data', train=False,\n",
    "                                       download=True, transform=transform)\n",
    "testloader = torch.utils.data.DataLoader(testset, batch_size=batch_size,\n",
    "                                         shuffle=False, num_workers=2)\n",
    "\n",
    "classes = ('plane', 'car', 'bird', 'cat', 'deer', 'dog', 'frog', 'horse', 'ship', 'truck')"
   ]
  },
  {
   "cell_type": "markdown",
   "metadata": {},
   "source": [
    "我们展示一些训练图像。"
   ]
  },
  {
   "cell_type": "code",
   "execution_count": 4,
   "metadata": {},
   "outputs": [
    {
     "data": {
      "image/png": "[encoded data removed]",
      "text/plain": [
       "<Figure size 640x480 with 1 Axes>"
      ]
     },
     "metadata": {},
     "output_type": "display_data"
    },
    {
     "name": "stdout",
     "output_type": "stream",
     "text": [
      "horse  bird  frog truck\n"
     ]
    }
   ],
   "source": [
    "import matplotlib.pyplot as plt\n",
    "import numpy as np\n",
    "\n",
    "# 展示图像的函数\n",
    "def imshow(img):\n",
    "    img = img / 2 + 0.5     # unnormalize\n",
    "    npimg = img.numpy()\n",
    "    plt.imshow(np.transpose(npimg, (1, 2, 0)))\n",
    "    plt.show()\n",
    "\n",
    "# 获取随机数据\n",
    "dataiter = iter(trainloader)\n",
    "images, labels = next(dataiter)\n",
    "\n",
    "# 展示图像\n",
    "imshow(torchvision.utils.make_grid(images))\n",
    "# 显示图像标签\n",
    "print(' '.join('%5s' % classes[labels[j]] for j in range(4)))"
   ]
  },
  {
   "cell_type": "markdown",
   "metadata": {},
   "source": [
    "## 2.建模：定义一个卷积神经网络"
   ]
  },
  {
   "cell_type": "code",
   "execution_count": 5,
   "metadata": {},
   "outputs": [],
   "source": [
    "import torch.nn as nn\n",
    "import torch.nn.functional as F\n",
    "\n",
    "class Net(nn.Module):\n",
    "    def __init__(self):\n",
    "        super().__init__()\n",
    "        self.conv1 = nn.Conv2d(3, 6, 5)\n",
    "        self.conv2 = nn.Conv2d(6, 16, 5)\n",
    "        self.pool = nn.MaxPool2d(2, 2)\n",
    "        self.fc1 = nn.Linear(16 * 5 * 5, 120)\n",
    "        self.fc2 = nn.Linear(120, 84)\n",
    "        self.fc3 = nn.Linear(84, 10)\n",
    "\n",
    "    def forward(self, x):\n",
    "        # 卷积1->relu激活->池化\n",
    "        x = self.pool(F.relu(self.conv1(x)))\n",
    "        # 卷积2->relu激活->池化\n",
    "        x = self.pool(F.relu(self.conv2(x)))\n",
    "        # 变形为1维\n",
    "        x = x.view(-1, 16 * 5 * 5)\n",
    "        # x = torch.flatten(x, 1)\n",
    "        # 全联接1（16*5*5->120）->relu激活\n",
    "        x = F.relu(self.fc1(x))\n",
    "        # 全联接2（120->84）->relu激活\n",
    "        x = F.relu(self.fc2(x))\n",
    "        # 全联接3（84->10）\n",
    "        x = self.fc3(x)\n",
    "        # 返回计算结果\n",
    "        return x\n",
    "\n",
    "net = Net()\n",
    "# cuda\n",
    "# net.to(device)"
   ]
  },
  {
   "cell_type": "code",
   "execution_count": 6,
   "metadata": {},
   "outputs": [],
   "source": [
    "# x = torch.ones(1, 16, 5, 5)\n",
    "# print(x.shape)\n",
    "# x = x.view(-1, 16 * 5 * 5)\n",
    "# print(x.shape)\n",
    "\n",
    "# x = torch.ones(1, 16, 5, 5)\n",
    "# print(x.shape)\n",
    "# x = torch.flatten(x, 1)\n",
    "# print(x.shape)\n",
    "\n",
    "conv1 = nn.Conv2d(3, 6, 5)\n",
    "input = torch.ones(3, 32, 32)"
   ]
  },
  {
   "cell_type": "code",
   "execution_count": 7,
   "metadata": {},
   "outputs": [],
   "source": [
    "# 测试模型输入输出\n",
    "# x = torch.ones(3, 32, 32)\n",
    "# x = x.to(device) # cuda\n",
    "# # print(x)\n",
    "\n",
    "# with torch.no_grad():\n",
    "#     outputs = net(x)\n",
    "#     print(outputs)"
   ]
  },
  {
   "cell_type": "markdown",
   "metadata": {},
   "source": [
    "## 3.损失：定义损失函数\n",
    "----------------------------------------\n",
    "\n",
    "我们使用交叉熵作为损失函数，使用带动量的随机梯度下降。"
   ]
  },
  {
   "cell_type": "code",
   "execution_count": 8,
   "metadata": {},
   "outputs": [],
   "source": [
    "import torch.optim as optim\n",
    "\n",
    "criterion = nn.CrossEntropyLoss()\n",
    "optimizer = optim.SGD(net.parameters(), lr=0.001, momentum=0.9)"
   ]
  },
  {
   "cell_type": "markdown",
   "metadata": {},
   "source": [
    "## 4.训练：在训练集上训练网络\n",
    "--------------------------------\n",
    "有趣的时刻开始了。\n",
    "我们只需在数据迭代器上循环，将数据输入给网络，并优化。"
   ]
  },
  {
   "cell_type": "code",
   "execution_count": 9,
   "metadata": {},
   "outputs": [
    {
     "name": "stdout",
     "output_type": "stream",
     "text": [
      "[1,  2000] loss: 2.205\n",
      "[1,  4000] loss: 1.835\n",
      "[1,  6000] loss: 1.668\n",
      "[1,  8000] loss: 1.580\n",
      "[1, 10000] loss: 1.510\n",
      "[1, 12000] loss: 1.461\n",
      "[2,  2000] loss: 1.409\n",
      "[2,  4000] loss: 1.361\n",
      "[2,  6000] loss: 1.330\n",
      "[2,  8000] loss: 1.310\n",
      "[2, 10000] loss: 1.291\n",
      "[2, 12000] loss: 1.291\n",
      "[3,  2000] loss: 1.208\n",
      "[3,  4000] loss: 1.183\n",
      "[3,  6000] loss: 1.226\n",
      "[3,  8000] loss: 1.173\n",
      "[3, 10000] loss: 1.175\n",
      "[3, 12000] loss: 1.154\n",
      "[4,  2000] loss: 1.088\n",
      "[4,  4000] loss: 1.108\n",
      "[4,  6000] loss: 1.093\n",
      "[4,  8000] loss: 1.104\n",
      "[4, 10000] loss: 1.101\n",
      "[4, 12000] loss: 1.093\n",
      "[5,  2000] loss: 1.018\n",
      "[5,  4000] loss: 1.028\n",
      "[5,  6000] loss: 1.037\n",
      "[5,  8000] loss: 1.050\n",
      "[5, 10000] loss: 1.029\n",
      "[5, 12000] loss: 1.017\n",
      "[6,  2000] loss: 0.963\n",
      "[6,  4000] loss: 0.972\n",
      "[6,  6000] loss: 0.977\n",
      "[6,  8000] loss: 0.991\n",
      "[6, 10000] loss: 0.993\n",
      "[6, 12000] loss: 0.980\n",
      "[7,  2000] loss: 0.903\n",
      "[7,  4000] loss: 0.921\n",
      "[7,  6000] loss: 0.937\n",
      "[7,  8000] loss: 0.943\n",
      "[7, 10000] loss: 0.942\n",
      "[7, 12000] loss: 0.970\n",
      "[8,  2000] loss: 0.847\n",
      "[8,  4000] loss: 0.891\n",
      "[8,  6000] loss: 0.899\n",
      "[8,  8000] loss: 0.911\n",
      "[8, 10000] loss: 0.906\n",
      "[8, 12000] loss: 0.921\n",
      "[9,  2000] loss: 0.820\n",
      "[9,  4000] loss: 0.829\n",
      "[9,  6000] loss: 0.876\n",
      "[9,  8000] loss: 0.882\n",
      "[9, 10000] loss: 0.888\n",
      "[9, 12000] loss: 0.880\n",
      "[10,  2000] loss: 0.809\n",
      "[10,  4000] loss: 0.817\n",
      "[10,  6000] loss: 0.812\n",
      "[10,  8000] loss: 0.830\n",
      "[10, 10000] loss: 0.864\n",
      "[10, 12000] loss: 0.857\n",
      "[11,  2000] loss: 0.755\n",
      "[11,  4000] loss: 0.792\n",
      "[11,  6000] loss: 0.800\n",
      "[11,  8000] loss: 0.826\n",
      "[11, 10000] loss: 0.836\n",
      "[11, 12000] loss: 0.834\n",
      "[12,  2000] loss: 0.704\n",
      "[12,  4000] loss: 0.744\n",
      "[12,  6000] loss: 0.794\n",
      "[12,  8000] loss: 0.790\n",
      "[12, 10000] loss: 0.824\n",
      "[12, 12000] loss: 0.838\n",
      "[13,  2000] loss: 0.691\n",
      "[13,  4000] loss: 0.728\n",
      "[13,  6000] loss: 0.762\n",
      "[13,  8000] loss: 0.786\n",
      "[13, 10000] loss: 0.790\n",
      "[13, 12000] loss: 0.783\n",
      "[14,  2000] loss: 0.691\n",
      "[14,  4000] loss: 0.726\n",
      "[14,  6000] loss: 0.739\n",
      "[14,  8000] loss: 0.771\n",
      "[14, 10000] loss: 0.785\n",
      "[14, 12000] loss: 0.774\n",
      "[15,  2000] loss: 0.662\n",
      "[15,  4000] loss: 0.722\n",
      "[15,  6000] loss: 0.718\n",
      "[15,  8000] loss: 0.730\n",
      "[15, 10000] loss: 0.763\n",
      "[15, 12000] loss: 0.773\n",
      "[16,  2000] loss: 0.653\n",
      "[16,  4000] loss: 0.691\n",
      "[16,  6000] loss: 0.706\n",
      "[16,  8000] loss: 0.743\n",
      "[16, 10000] loss: 0.762\n",
      "[16, 12000] loss: 0.764\n",
      "[17,  2000] loss: 0.657\n",
      "[17,  4000] loss: 0.665\n",
      "[17,  6000] loss: 0.705\n",
      "[17,  8000] loss: 0.728\n",
      "[17, 10000] loss: 0.739\n",
      "[17, 12000] loss: 0.748\n",
      "[18,  2000] loss: 0.617\n",
      "[18,  4000] loss: 0.658\n",
      "[18,  6000] loss: 0.680\n",
      "[18,  8000] loss: 0.705\n",
      "[18, 10000] loss: 0.711\n",
      "[18, 12000] loss: 0.762\n",
      "[19,  2000] loss: 0.613\n",
      "[19,  4000] loss: 0.665\n",
      "[19,  6000] loss: 0.674\n",
      "[19,  8000] loss: 0.684\n",
      "[19, 10000] loss: 0.724\n",
      "[19, 12000] loss: 0.704\n",
      "[20,  2000] loss: 0.625\n",
      "[20,  4000] loss: 0.648\n",
      "[20,  6000] loss: 0.694\n",
      "[20,  8000] loss: 0.669\n",
      "[20, 10000] loss: 0.690\n",
      "[20, 12000] loss: 0.703\n",
      "Finished Training\n"
     ]
    }
   ],
   "source": [
    "for epoch in range(2):  # 多批次循环\n",
    "\n",
    "    running_loss = 0.0\n",
    "    for i, data in enumerate(trainloader, 0):\n",
    "        # 获取输入\n",
    "        inputs, labels = data\n",
    "        # 使用cuda设备\n",
    "        # inputs, labels = inputs.to(device), labels.to(device)\n",
    "\n",
    "        # 梯度置0\n",
    "        optimizer.zero_grad()\n",
    "\n",
    "        # 正向传播，反向传播，优化\n",
    "        outputs = net(inputs)\n",
    "        loss = criterion(outputs, labels)\n",
    "        loss.backward()\n",
    "        optimizer.step()\n",
    "\n",
    "        # 打印状态信息\n",
    "        running_loss += loss.item()\n",
    "        if i % 2000 == 1999:    # 每2000批次打印一次\n",
    "            print(f'[{epoch + 1}, {i + 1:5d}] loss: {running_loss / 2000:.3f}')\n",
    "            running_loss = 0.0\n",
    "\n",
    "print('Finished Training')"
   ]
  },
  {
   "cell_type": "markdown",
   "metadata": {},
   "source": [
    "保存我们训练的模型"
   ]
  },
  {
   "cell_type": "code",
   "execution_count": 10,
   "metadata": {},
   "outputs": [],
   "source": [
    "PATH = \"./cifar_net.pth\"\n",
    "torch.save(net.state_dict(), PATH)"
   ]
  },
  {
   "cell_type": "markdown",
   "metadata": {},
   "source": [
    "## 5.测试：在测试集上测试网络\n",
    "-------------------------------------\n",
    "\n",
    "第一步，显示测试集中的图片并熟悉图片内容。"
   ]
  },
  {
   "cell_type": "code",
   "execution_count": 11,
   "metadata": {},
   "outputs": [
    {
     "data": {
      "image/png": "[encoded data removed]",
      "text/plain": [
       "<Figure size 640x480 with 1 Axes>"
      ]
     },
     "metadata": {},
     "output_type": "display_data"
    },
    {
     "name": "stdout",
     "output_type": "stream",
     "text": [
      "GroundTruth:    cat  ship  ship plane\n"
     ]
    }
   ],
   "source": [
    "dataiter = iter(testloader)\n",
    "images, labels = next(dataiter)\n",
    "\n",
    "# 显示图片\n",
    "imshow(torchvision.utils.make_grid(images))\n",
    "print('GroundTruth: ', ' '.join('%5s' % classes[labels[j]] for j in range(4)))"
   ]
  },
  {
   "cell_type": "markdown",
   "metadata": {},
   "source": [
    "加载之前保存的模型"
   ]
  },
  {
   "cell_type": "code",
   "execution_count": 12,
   "metadata": {},
   "outputs": [
    {
     "data": {
      "text/plain": [
       "<All keys matched successfully>"
      ]
     },
     "execution_count": 12,
     "metadata": {},
     "output_type": "execute_result"
    }
   ],
   "source": [
    "net = Net()\n",
    "net.load_state_dict(torch.load(PATH))"
   ]
  },
  {
   "cell_type": "markdown",
   "metadata": {},
   "source": [
    "预测：让我们看看神经网络认为以上图片是什么。"
   ]
  },
  {
   "cell_type": "code",
   "execution_count": 13,
   "metadata": {},
   "outputs": [],
   "source": [
    "outputs = net(images)"
   ]
  },
  {
   "cell_type": "markdown",
   "metadata": {},
   "source": [
    "输出是10个标签的能量。\n",
    "一个类别的能量数值越大，神经网络越认为它是这个类别。所以让我们得到最高能量的标签。"
   ]
  },
  {
   "cell_type": "code",
   "execution_count": 14,
   "metadata": {},
   "outputs": [
    {
     "name": "stdout",
     "output_type": "stream",
     "text": [
      "Predicted:    cat  ship plane plane\n"
     ]
    }
   ],
   "source": [
    "_, predicted = torch.max(outputs, 1)\n",
    "\n",
    "print('Predicted: ', ' '.join('%5s' % classes[predicted[j]] for j in range(4)))"
   ]
  },
  {
   "cell_type": "markdown",
   "metadata": {},
   "source": [
    "结果看来不错。\n",
    "\n",
    "接下来让看看网络在整个测试集上的结果如何。"
   ]
  },
  {
   "cell_type": "code",
   "execution_count": 15,
   "metadata": {},
   "outputs": [
    {
     "name": "stdout",
     "output_type": "stream",
     "text": [
      "Accuracy of the network on the 10000 test images: 59 %\n"
     ]
    }
   ],
   "source": [
    "correct = 0\n",
    "total = 0\n",
    "# since we're not training, we don't need to calculate the gradients for our outputs\n",
    "# 因为我们没有在训练，所以我们不需要计算output输出的梯度\n",
    "with torch.no_grad():\n",
    "    for data in testloader:\n",
    "        images, labels = data\n",
    "        # calculate outputs by running images through the network\n",
    "        # 通过网络模型计算images的输出\n",
    "        outputs = net(images)\n",
    "        # the class with the highest energy is what we choose as prediction\n",
    "        # 我们选择能量最高的分类作为预测结果\n",
    "        _, predicted = torch.max(outputs.data, 1)\n",
    "        total += labels.size(0)\n",
    "        correct += (predicted == labels).sum().item()\n",
    "\n",
    "print('Accuracy of the network on the 10000 test images: %d %%' % (100 * correct / total))"
   ]
  },
  {
   "cell_type": "markdown",
   "metadata": {},
   "source": [
    "统计每个分类的预测效果数值百分比"
   ]
  },
  {
   "cell_type": "code",
   "execution_count": 16,
   "metadata": {},
   "outputs": [
    {
     "name": "stdout",
     "output_type": "stream",
     "text": [
      "Accuracy for class: plane is 74.3 %\n",
      "Accuracy for class: car   is 58.7 %\n",
      "Accuracy for class: bird  is 49.1 %\n",
      "Accuracy for class: cat   is 41.7 %\n",
      "Accuracy for class: deer  is 48.1 %\n",
      "Accuracy for class: dog   is 54.0 %\n",
      "Accuracy for class: frog  is 67.3 %\n",
      "Accuracy for class: horse is 61.1 %\n",
      "Accuracy for class: ship  is 64.2 %\n",
      "Accuracy for class: truck is 76.4 %\n"
     ]
    }
   ],
   "source": [
    "# prepare to count predictions for each class\n",
    "# 准备为每一个分类的预测结果进行计数\n",
    "correct_pred = {classname: 0 for classname in classes}\n",
    "total_pred = {classname: 0 for classname in classes}\n",
    "\n",
    "# again no gradients needed\n",
    "# 同上，这里进行预测，不需要计算梯度\n",
    "with torch.no_grad():\n",
    "    for data in testloader:\n",
    "        images, labels = data\n",
    "        outputs = net(images) # 网络模型预测images得到输出outputs\n",
    "        _, predictions = torch.max(outputs, 1) # 使用最高能量的分类作为预测结果\n",
    "\n",
    "        # collect the correct predictions for each class\n",
    "        # 收集每个分类的正确预测结果\n",
    "        for label, prediction in zip(labels, predictions):\n",
    "            if label == prediction:\n",
    "                correct_pred[classes[label]] += 1\n",
    "            total_pred[classes[label]] += 1\n",
    "\n",
    "\n",
    "# print accuracy for each class\n",
    "# 打印每个分类的准确率\n",
    "for classname, correct_count in correct_pred.items():\n",
    "    accuracy = 100 * float(correct_count) / total_pred[classname]\n",
    "    print(f'Accuracy for class: {classname:5s} is {accuracy:.1f} %')"
   ]
  }
 ],
 "metadata": {
  "kernelspec": {
   "display_name": "paddle_learn",
   "language": "python",
   "name": "python3"
  },
  "language_info": {
   "codemirror_mode": {
    "name": "ipython",
    "version": 3
   },
   "file_extension": ".py",
   "mimetype": "text/x-python",
   "name": "python",
   "nbconvert_exporter": "python",
   "pygments_lexer": "ipython3",
   "version": "3.8.18"
  }
 },
 "nbformat": 4,
 "nbformat_minor": 2
}
