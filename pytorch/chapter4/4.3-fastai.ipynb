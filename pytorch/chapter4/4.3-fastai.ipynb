{
 "cells": [
  {
   "cell_type": "code",
   "execution_count": 4,
   "metadata": {},
   "outputs": [
    {
     "name": "stdout",
     "output_type": "stream",
     "text": [
      "Collecting package metadata (current_repodata.json): done\n",
      "Solving environment: failed with initial frozen solve. Retrying with flexible solve.\n",
      "Solving environment: failed with repodata from current_repodata.json, will retry with next repodata source.\n",
      "Collecting package metadata (repodata.json): done\n",
      "Solving environment: done\n",
      "\n",
      "## Package Plan ##\n",
      "\n",
      "  environment location: /root/miniconda3/envs/paddle_learn\n",
      "\n",
      "  added / updated specs:\n",
      "    - fastai\n",
      "\n",
      "\n",
      "The following packages will be downloaded:\n",
      "\n",
      "    package                    |            build\n",
      "    ---------------------------|-----------------\n",
      "    bottleneck-1.3.7           |   py38ha9d4c09_0         125 KB\n",
      "    brotli-1.0.9               |       h5eee18b_7          18 KB\n",
      "    brotli-bin-1.0.9           |       h5eee18b_7          19 KB\n",
      "    catalogue-1.0.0            |           py38_1          16 KB\n",
      "    contourpy-1.0.5            |   py38hdb19cb5_0         203 KB\n",
      "    cycler-0.11.0              |     pyhd3eb1b0_0          12 KB\n",
      "    cymem-2.0.6                |   py38h295c915_0          41 KB\n",
      "    cython-blis-0.7.9          |   py38h7deecbd_0         7.3 MB\n",
      "    fastai-2.7.14              |             py_0         181 KB  fastai\n",
      "    fastcore-1.5.29            |             py_0          60 KB  fastai\n",
      "    fastdownload-0.0.7         |             py_0          17 KB  fastai\n",
      "    fastprogress-1.0.3         |             py_0          17 KB  fastai\n",
      "    fonttools-4.25.0           |     pyhd3eb1b0_0         632 KB\n",
      "    glib-2.78.4                |       h6a678d5_0         508 KB\n",
      "    glib-tools-2.78.4          |       h6a678d5_0         115 KB\n",
      "    importlib-metadata-7.0.1   |   py38h06a4308_0          40 KB\n",
      "    importlib_metadata-7.0.1   |       hd3eb1b0_0           8 KB\n",
      "    importlib_resources-6.1.1  |   py38h06a4308_1          54 KB\n",
      "    joblib-1.2.0               |   py38h06a4308_0         396 KB\n",
      "    jsonschema-3.0.2           |           py38_0          93 KB\n",
      "    kiwisolver-1.4.4           |   py38h6a678d5_0          76 KB\n",
      "    libbrotlicommon-1.0.9      |       h5eee18b_7          70 KB\n",
      "    libbrotlidec-1.0.9         |       h5eee18b_7          31 KB\n",
      "    libbrotlienc-1.0.9         |       h5eee18b_7         264 KB\n",
      "    libgfortran-ng-11.2.0      |       h00389a5_1          20 KB\n",
      "    libgfortran5-11.2.0        |       h1234567_1         2.0 MB\n",
      "    libglib-2.78.4             |       hdc74915_0         1.5 MB\n",
      "    libpq-12.17                |       hdbd6064_0         2.4 MB\n",
      "    matplotlib-3.7.2           |   py38h06a4308_0           8 KB\n",
      "    matplotlib-base-3.7.2      |   py38h1128e8f_0         6.7 MB\n",
      "    munkres-1.1.4              |             py_0          13 KB\n",
      "    murmurhash-1.0.7           |   py38h295c915_0          24 KB\n",
      "    numexpr-2.8.4              |   py38hc78ab66_1         136 KB\n",
      "    pandas-2.0.3               |   py38h1128e8f_0        12.4 MB\n",
      "    pcre2-10.42                |       hebb0a14_0         1.5 MB\n",
      "    plac-1.1.0                 |           py38_1          41 KB\n",
      "    pooch-1.7.0                |   py38h06a4308_0          81 KB\n",
      "    preshed-3.0.6              |   py38h295c915_0         114 KB\n",
      "    pyparsing-3.0.9            |   py38h06a4308_0         152 KB\n",
      "    pyrsistent-0.20.0          |   py38h5eee18b_0         100 KB\n",
      "    python-tzdata-2023.3       |     pyhd3eb1b0_0         140 KB\n",
      "    scikit-learn-1.3.0         |   py38h1128e8f_1         8.5 MB\n",
      "    scipy-1.10.1               |   py38hf6e8229_1        22.4 MB\n",
      "    spacy-2.3.5                |   py38hff7bd54_0         4.9 MB\n",
      "    srsly-1.0.5                |   py38h2531618_0         199 KB\n",
      "    thinc-7.4.5                |   py38h9a67853_0         866 KB\n",
      "    threadpoolctl-2.2.0        |     pyh0d69192_0          16 KB\n",
      "    tqdm-4.65.0                |   py38hb070fc8_0         131 KB\n",
      "    wasabi-0.9.1               |   py38h06a4308_0          41 KB\n",
      "    zipp-3.17.0                |   py38h06a4308_0          21 KB\n",
      "    ------------------------------------------------------------\n",
      "                                           Total:        74.6 MB\n",
      "\n",
      "The following NEW packages will be INSTALLED:\n",
      "\n",
      "  attrs              pkgs/main/linux-64::attrs-23.1.0-py38h06a4308_0\n",
      "  bottleneck         pkgs/main/linux-64::bottleneck-1.3.7-py38ha9d4c09_0\n",
      "  brotli             pkgs/main/linux-64::brotli-1.0.9-h5eee18b_7\n",
      "  brotli-bin         pkgs/main/linux-64::brotli-bin-1.0.9-h5eee18b_7\n",
      "  catalogue          pkgs/main/linux-64::catalogue-1.0.0-py38_1\n",
      "  contourpy          pkgs/main/linux-64::contourpy-1.0.5-py38hdb19cb5_0\n",
      "  cycler             pkgs/main/noarch::cycler-0.11.0-pyhd3eb1b0_0\n",
      "  cymem              pkgs/main/linux-64::cymem-2.0.6-py38h295c915_0\n",
      "  cyrus-sasl         pkgs/main/linux-64::cyrus-sasl-2.1.28-h52b45da_1\n",
      "  cython-blis        pkgs/main/linux-64::cython-blis-0.7.9-py38h7deecbd_0\n",
      "  dbus               pkgs/main/linux-64::dbus-1.13.18-hb2f20db_0\n",
      "  expat              pkgs/main/linux-64::expat-2.5.0-h6a678d5_0\n",
      "  fastai             fastai/noarch::fastai-2.7.14-py_0\n",
      "  fastcore           fastai/noarch::fastcore-1.5.29-py_0\n",
      "  fastdownload       fastai/noarch::fastdownload-0.0.7-py_0\n",
      "  fastprogress       fastai/noarch::fastprogress-1.0.3-py_0\n",
      "  fontconfig         pkgs/main/linux-64::fontconfig-2.14.1-h4c34cd2_2\n",
      "  fonttools          pkgs/main/noarch::fonttools-4.25.0-pyhd3eb1b0_0\n",
      "  glib               pkgs/main/linux-64::glib-2.78.4-h6a678d5_0\n",
      "  glib-tools         pkgs/main/linux-64::glib-tools-2.78.4-h6a678d5_0\n",
      "  gst-plugins-base   pkgs/main/linux-64::gst-plugins-base-1.14.1-h6a678d5_1\n",
      "  gstreamer          pkgs/main/linux-64::gstreamer-1.14.1-h5eee18b_1\n",
      "  icu                pkgs/main/linux-64::icu-73.1-h6a678d5_0\n",
      "  importlib-metadata pkgs/main/linux-64::importlib-metadata-7.0.1-py38h06a4308_0\n",
      "  importlib_metadata pkgs/main/noarch::importlib_metadata-7.0.1-hd3eb1b0_0\n",
      "  importlib_resourc~ pkgs/main/linux-64::importlib_resources-6.1.1-py38h06a4308_1\n",
      "  joblib             pkgs/main/linux-64::joblib-1.2.0-py38h06a4308_0\n",
      "  jsonschema         pkgs/main/linux-64::jsonschema-3.0.2-py38_0\n",
      "  kiwisolver         pkgs/main/linux-64::kiwisolver-1.4.4-py38h6a678d5_0\n",
      "  krb5               pkgs/main/linux-64::krb5-1.20.1-h143b758_1\n",
      "  libbrotlicommon    pkgs/main/linux-64::libbrotlicommon-1.0.9-h5eee18b_7\n",
      "  libbrotlidec       pkgs/main/linux-64::libbrotlidec-1.0.9-h5eee18b_7\n",
      "  libbrotlienc       pkgs/main/linux-64::libbrotlienc-1.0.9-h5eee18b_7\n",
      "  libclang           pkgs/main/linux-64::libclang-14.0.6-default_hc6dbbc7_1\n",
      "  libclang13         pkgs/main/linux-64::libclang13-14.0.6-default_he11475f_1\n",
      "  libcups            pkgs/main/linux-64::libcups-2.4.2-h2d74bed_1\n",
      "  libedit            pkgs/main/linux-64::libedit-3.1.20230828-h5eee18b_0\n",
      "  libgfortran-ng     pkgs/main/linux-64::libgfortran-ng-11.2.0-h00389a5_1\n",
      "  libgfortran5       pkgs/main/linux-64::libgfortran5-11.2.0-h1234567_1\n",
      "  libglib            pkgs/main/linux-64::libglib-2.78.4-hdc74915_0\n",
      "  libllvm14          pkgs/main/linux-64::libllvm14-14.0.6-hdb19cb5_3\n",
      "  libpq              pkgs/main/linux-64::libpq-12.17-hdbd6064_0\n",
      "  libuuid            pkgs/main/linux-64::libuuid-1.41.5-h5eee18b_0\n",
      "  libxcb             pkgs/main/linux-64::libxcb-1.15-h7f8727e_0\n",
      "  libxkbcommon       pkgs/main/linux-64::libxkbcommon-1.0.1-h5eee18b_1\n",
      "  libxml2            pkgs/main/linux-64::libxml2-2.10.4-hf1b16e4_1\n",
      "  matplotlib         pkgs/main/linux-64::matplotlib-3.7.2-py38h06a4308_0\n",
      "  matplotlib-base    pkgs/main/linux-64::matplotlib-base-3.7.2-py38h1128e8f_0\n",
      "  munkres            pkgs/main/noarch::munkres-1.1.4-py_0\n",
      "  murmurhash         pkgs/main/linux-64::murmurhash-1.0.7-py38h295c915_0\n",
      "  mysql              pkgs/main/linux-64::mysql-5.7.24-h721c034_2\n",
      "  numexpr            pkgs/main/linux-64::numexpr-2.8.4-py38hc78ab66_1\n",
      "  pandas             pkgs/main/linux-64::pandas-2.0.3-py38h1128e8f_0\n",
      "  pcre2              pkgs/main/linux-64::pcre2-10.42-hebb0a14_0\n",
      "  plac               pkgs/main/linux-64::plac-1.1.0-py38_1\n",
      "  ply                pkgs/main/linux-64::ply-3.11-py38_0\n",
      "  pooch              pkgs/main/linux-64::pooch-1.7.0-py38h06a4308_0\n",
      "  preshed            pkgs/main/linux-64::preshed-3.0.6-py38h295c915_0\n",
      "  pyparsing          pkgs/main/linux-64::pyparsing-3.0.9-py38h06a4308_0\n",
      "  pyqt               pkgs/main/linux-64::pyqt-5.15.10-py38h6a678d5_0\n",
      "  pyqt5-sip          pkgs/main/linux-64::pyqt5-sip-12.13.0-py38h5eee18b_0\n",
      "  pyrsistent         pkgs/main/linux-64::pyrsistent-0.20.0-py38h5eee18b_0\n",
      "  python-tzdata      pkgs/main/noarch::python-tzdata-2023.3-pyhd3eb1b0_0\n",
      "  pytz               pkgs/main/linux-64::pytz-2023.3.post1-py38h06a4308_0\n",
      "  qt-main            pkgs/main/linux-64::qt-main-5.15.2-h53bd1ea_10\n",
      "  scikit-learn       pkgs/main/linux-64::scikit-learn-1.3.0-py38h1128e8f_1\n",
      "  scipy              pkgs/main/linux-64::scipy-1.10.1-py38hf6e8229_1\n",
      "  sip                pkgs/main/linux-64::sip-6.7.12-py38h6a678d5_0\n",
      "  spacy              pkgs/main/linux-64::spacy-2.3.5-py38hff7bd54_0\n",
      "  srsly              pkgs/main/linux-64::srsly-1.0.5-py38h2531618_0\n",
      "  thinc              pkgs/main/linux-64::thinc-7.4.5-py38h9a67853_0\n",
      "  threadpoolctl      pkgs/main/noarch::threadpoolctl-2.2.0-pyh0d69192_0\n",
      "  tomli              pkgs/main/linux-64::tomli-2.0.1-py38h06a4308_0\n",
      "  tqdm               pkgs/main/linux-64::tqdm-4.65.0-py38hb070fc8_0\n",
      "  wasabi             pkgs/main/linux-64::wasabi-0.9.1-py38h06a4308_0\n",
      "  zipp               pkgs/main/linux-64::zipp-3.17.0-py38h06a4308_0\n",
      "\n",
      "The following packages will be UPDATED:\n",
      "\n",
      "  ca-certificates    conda-forge::ca-certificates-2023.11.~ --> pkgs/main::ca-certificates-2023.12.12-h06a4308_0\n",
      "\n",
      "\n",
      "\n",
      "Downloading and Extracting Packages\n",
      "python-tzdata-2023.3 | 140 KB    | ##################################### | 100% \n",
      "matplotlib-3.7.2     | 8 KB      | ##################################### | 100% \n",
      "libbrotlienc-1.0.9   | 264 KB    | ##################################### | 100% \n",
      "fastai-2.7.14        | 181 KB    | ##################################### | 100% \n",
      "pyrsistent-0.20.0    | 100 KB    | ##################################### | 100% \n",
      "libbrotlidec-1.0.9   | 31 KB     | ##################################### | 100% \n",
      "munkres-1.1.4        | 13 KB     | ##################################### | 100% \n",
      "libglib-2.78.4       | 1.5 MB    | ##################################### | 100% \n",
      "fastprogress-1.0.3   | 17 KB     | ##################################### | 100% \n",
      "cymem-2.0.6          | 41 KB     | ##################################### | 100% \n",
      "importlib_metadata-7 | 8 KB      | ##################################### | 100% \n",
      "thinc-7.4.5          | 866 KB    | ##################################### | 100% \n",
      "preshed-3.0.6        | 114 KB    | ##################################### | 100% \n",
      "libgfortran5-11.2.0  | 2.0 MB    | ##################################### | 100% \n",
      "zipp-3.17.0          | 21 KB     | ##################################### | 100% \n",
      "catalogue-1.0.0      | 16 KB     | ##################################### | 100% \n",
      "pyparsing-3.0.9      | 152 KB    | ##################################### | 100% \n",
      "threadpoolctl-2.2.0  | 16 KB     | ##################################### | 100% \n",
      "fastdownload-0.0.7   | 17 KB     | ##################################### | 100% \n",
      "fonttools-4.25.0     | 632 KB    | ##################################### | 100% \n",
      "importlib_resources- | 54 KB     | ##################################### | 100% \n",
      "fastcore-1.5.29      | 60 KB     | ##################################### | 100% \n",
      "libbrotlicommon-1.0. | 70 KB     | ##################################### | 100% \n",
      "importlib-metadata-7 | 40 KB     | ##################################### | 100% \n",
      "brotli-1.0.9         | 18 KB     | ##################################### | 100% \n",
      "numexpr-2.8.4        | 136 KB    | ##################################### | 100% \n",
      "cython-blis-0.7.9    | 7.3 MB    | ##################################### | 100% \n",
      "cycler-0.11.0        | 12 KB     | ##################################### | 100% \n",
      "wasabi-0.9.1         | 41 KB     | ##################################### | 100% \n",
      "spacy-2.3.5          | 4.9 MB    | ##################################### | 100% \n",
      "jsonschema-3.0.2     | 93 KB     | ##################################### | 100% \n",
      "joblib-1.2.0         | 396 KB    | ##################################### | 100% \n",
      "bottleneck-1.3.7     | 125 KB    | ##################################### | 100% \n",
      "kiwisolver-1.4.4     | 76 KB     | ##################################### | 100% \n",
      "srsly-1.0.5          | 199 KB    | ##################################### | 100% \n",
      "brotli-bin-1.0.9     | 19 KB     | ##################################### | 100% \n",
      "matplotlib-base-3.7. | 6.7 MB    | ##################################### | 100% \n",
      "libgfortran-ng-11.2. | 20 KB     | ##################################### | 100% \n",
      "plac-1.1.0           | 41 KB     | ##################################### | 100% \n",
      "pandas-2.0.3         | 12.4 MB   | ##################################### | 100% \n",
      "pooch-1.7.0          | 81 KB     | ##################################### | 100% \n",
      "libpq-12.17          | 2.4 MB    | ##################################### | 100% \n",
      "scipy-1.10.1         | 22.4 MB   | ##################################### | 100% \n",
      "scikit-learn-1.3.0   | 8.5 MB    | ##################################### | 100% \n",
      "glib-tools-2.78.4    | 115 KB    | ##################################### | 100% \n",
      "tqdm-4.65.0          | 131 KB    | ##################################### | 100% \n",
      "pcre2-10.42          | 1.5 MB    | ##################################### | 100% \n",
      "glib-2.78.4          | 508 KB    | ##################################### | 100% \n",
      "murmurhash-1.0.7     | 24 KB     | ##################################### | 100% \n",
      "contourpy-1.0.5      | 203 KB    | ##################################### | 100% \n",
      "Preparing transaction: done\n",
      "Verifying transaction: done\n",
      "Executing transaction: done\n",
      "Retrieving notices: ...working... done\n",
      "\n",
      "Note: you may need to restart the kernel to use updated packages.\n"
     ]
    }
   ],
   "source": [
    "%conda install -c fastai fastai"
   ]
  },
  {
   "cell_type": "code",
   "execution_count": 6,
   "metadata": {},
   "outputs": [
    {
     "name": "stdout",
     "output_type": "stream",
     "text": [
      "2.2.1\n",
      "2.7.14\n"
     ]
    }
   ],
   "source": [
    "import fastai\n",
    "from fastai import *\n",
    "from fastai.vision.all import *\n",
    "# from fastai.vision import *\n",
    "import torch\n",
    "print(torch.__version__)\n",
    "print(fastai.__version__)"
   ]
  },
  {
   "cell_type": "markdown",
   "metadata": {},
   "source": [
    "# 4.3 fastai\n",
    "## 4.3.1 fastai介绍\n",
    "### fastai库\n",
    "fastai将训练一个准确的神经网络变得十分简单。fastai库是基于他的创始人Jeremy Howard 等人开发的 Deep Learning 课程深度学习的研究，为计算机视觉、文本、表格数据、时间序列、协同过滤等常见深度学习应用提供单一、一致界面的深度学习库，可以做到开箱即用。这意味着，如果你已经学会用fastai创建实用的计算机视觉（CV）模型，那你就可以用同样的方法创建自然语言处理（NLP）模型，或是其他模型。\n",
    "\n",
    "fastai 是目前把易用性和功能都做到了极致的深度学习框架，正如Jeremy所说的：如果一个深度学习框架需要写个教程给你，那它的易用性还不够好。Jeremy 说这话，不是为了夸自己，因为他甚至做了个 MOOC 出来。他自己评价说目前 fastai 的易用性依然不算成功。但在我看来它的门槛极低，你可以很轻易用几句话写个图片分类模型出来，人人都能立即上手，你甚至不需要知道深度学习的理论。\n",
    "\n",
    "\n",
    "### fast.ai课程\n",
    "\n",
    "上面说到了课程，这里对fast.ai的课程做一个简单的介绍：\n",
    "课程是由kaggle赛事老司机，连续两年冠军Jeremy Howard 和 Rachel Tomas 联合创办，旨在让更多人能接受深度学习的课程，而且是完全免费！真的是业界良心，这两年深度学习火了起来，国内有培训机构推出收费课程了，教学水平参差不齐。而Jeremy和Rachel推出的课程，恰恰提现了他们的教育理念：`Make deep learning uncool ! （让深度学习变得没那么高大上）`\n",
    "Fast.ai给人的印象一直很“接地气”：\n",
    "- 研究如何快速、可靠地把最先进的深度学习应用于实际问题。\n",
    "- 提供Fast.ai库，它不仅是让新手快速构建深度学习实现的工具包，也是提供最佳实践的一个强大而便捷的资源。\n",
    "- 课程内容简洁易懂，以便尽可能多的人从研究成果和软件中收益。\n",
    "\n",
    "### Github\n",
    "这个官方的Github包含了fastai的所有内容 https://github.com/fastai \n"
   ]
  },
  {
   "cell_type": "markdown",
   "metadata": {},
   "source": [
    "## 4.3.2 fastai实践\n",
    "### MNIST\n",
    "我们还是以最简单的MNIST来入手看看fastai都为我们做了什么"
   ]
  },
  {
   "cell_type": "code",
   "execution_count": 7,
   "metadata": {
    "scrolled": true
   },
   "outputs": [],
   "source": [
    "# 使用fastai内置的MNIST数据集，这里会从fastai的服务器下载\n",
    "path = untar_data(URLs.MNIST_SAMPLE)"
   ]
  },
  {
   "cell_type": "markdown",
   "metadata": {},
   "source": [
    "URLs.MNIST_SAMPLE 只提供了3和7 两个分类的数据，这个是用来做演示的，我们正好也做个演示\n",
    "\n",
    "这里如果下载很慢的话，那么我们可以手动进行操作（建议这样，比程序下载快很多而且稳定）\n",
    "```\n",
    "#进入我们用户目录，创建以下的目录\n",
    "mkdir -p ~/.fastai/data\n",
    "cd ~/.fastai/data\n",
    "# 下载解压\n",
    "wget -c http://files.fast.ai/data/examples/mnist_sample.tgz\n",
    "tar -zxvf mnist_sample.tgz\n",
    "```\n",
    "完成后重新执行上面的命令即可"
   ]
  },
  {
   "cell_type": "code",
   "execution_count": 10,
   "metadata": {},
   "outputs": [],
   "source": [
    "from fastai.vision.data import ImageDataLoaders\n",
    "\n",
    "#使用ImageDataBunch从刚才的目录中将读入数据\n",
    "data = ImageDataLoaders.from_folder(path)"
   ]
  },
  {
   "cell_type": "code",
   "execution_count": 11,
   "metadata": {},
   "outputs": [
    {
     "data": {
      "text/plain": [
       "<fastai.data.core.DataLoaders at 0x7fef6c2c1820>"
      ]
     },
     "execution_count": 11,
     "metadata": {},
     "output_type": "execute_result"
    }
   ],
   "source": [
    "# 可以看一下data里面有什么？\n",
    "data"
   ]
  },
  {
   "cell_type": "code",
   "execution_count": 13,
   "metadata": {},
   "outputs": [
    {
     "name": "stderr",
     "output_type": "stream",
     "text": [
      "/root/miniconda3/envs/paddle_learn/lib/python3.8/site-packages/fastai/vision/learner.py:301: UserWarning: `cnn_learner` has been renamed to `vision_learner` -- please update your code\n",
      "  warn(\"`cnn_learner` has been renamed to `vision_learner` -- please update your code\")\n"
     ]
    }
   ],
   "source": [
    "# 使用cnn_learner来创建一个learn，这里模型我们选择resnet18，使用的计量方法是accuracy准确率\n",
    "learn = cnn_learner(data, models.resnet18, metrics=accuracy)"
   ]
  },
  {
   "cell_type": "code",
   "execution_count": 17,
   "metadata": {},
   "outputs": [
    {
     "name": "stdout",
     "output_type": "stream",
     "text": [
      "TensorCategory(1)\n"
     ]
    },
    {
     "data": {
      "image/jpeg": "[encoded data removed]",
      "image/png": "[encoded data removed]",
      "text/plain": [
       "PILImage mode=RGB size=28x28"
      ]
     },
     "execution_count": 17,
     "metadata": {},
     "output_type": "execute_result"
    }
   ],
   "source": [
    "#可以直接使用train_ds来访问数据集里面的数据\n",
    "img,label = data.train_ds[0]\n",
    "print(label)\n",
    "img"
   ]
  },
  {
   "cell_type": "code",
   "execution_count": 22,
   "metadata": {},
   "outputs": [
    {
     "data": {
      "image/png": "[encoded data removed]",
      "text/plain": [
       "<Figure size 600x600 with 9 Axes>"
      ]
     },
     "metadata": {},
     "output_type": "display_data"
    }
   ],
   "source": [
    "#或者我们直接使用show_batch方法，连标签都给我们自动生成好了\n",
    "data.show_batch(max_n=9, figsize=(6,6))"
   ]
  },
  {
   "cell_type": "markdown",
   "metadata": {},
   "source": [
    "这里也是直接下载PyTorch官方提供的resnet18与训练模型\n",
    "\n",
    "`wget -P /Users/tant/.torch/models/ https://download.pytorch.org/models/resnet18-5c106cde.pth`"
   ]
  },
  {
   "cell_type": "code",
   "execution_count": 23,
   "metadata": {},
   "outputs": [
    {
     "data": {
      "text/html": [
       "\n",
       "<style>\n",
       "    /* Turns off some styling */\n",
       "    progress {\n",
       "        /* gets rid of default border in Firefox and Opera. */\n",
       "        border: none;\n",
       "        /* Needs to be in here for Safari polyfill so background images work as expected. */\n",
       "        background-size: auto;\n",
       "    }\n",
       "    progress:not([value]), progress:not([value])::-webkit-progress-bar {\n",
       "        background: repeating-linear-gradient(45deg, #7e7e7e, #7e7e7e 10px, #5c5c5c 10px, #5c5c5c 20px);\n",
       "    }\n",
       "    .progress-bar-interrupted, .progress-bar-interrupted::-webkit-progress-bar {\n",
       "        background: #F44336;\n",
       "    }\n",
       "</style>\n"
      ],
      "text/plain": [
       "<IPython.core.display.HTML object>"
      ]
     },
     "metadata": {},
     "output_type": "display_data"
    },
    {
     "data": {
      "text/html": [
       "\n",
       "    <div>\n",
       "      <progress value='0' class='' max='1' style='width:300px; height:20px; vertical-align: middle;'></progress>\n",
       "      0.00% [0/1 00:00&lt;?]\n",
       "    </div>\n",
       "    \n",
       "<table border=\"1\" class=\"dataframe\">\n",
       "  <thead>\n",
       "    <tr style=\"text-align: left;\">\n",
       "      <th>epoch</th>\n",
       "      <th>train_loss</th>\n",
       "      <th>valid_loss</th>\n",
       "      <th>accuracy</th>\n",
       "      <th>time</th>\n",
       "    </tr>\n",
       "  </thead>\n",
       "  <tbody>\n",
       "  </tbody>\n",
       "</table><p>\n",
       "\n",
       "    <div>\n",
       "      <progress value='0' class='' max='193' style='width:300px; height:20px; vertical-align: middle;'></progress>\n",
       "      0.00% [0/193 00:00&lt;?]\n",
       "    </div>\n",
       "    "
      ],
      "text/plain": [
       "<IPython.core.display.HTML object>"
      ]
     },
     "metadata": {},
     "output_type": "display_data"
    }
   ],
   "source": [
    "# 使用learn的fit方法就可以进行训练了，训练一遍\n",
    "learn.fit(1)"
   ]
  },
  {
   "cell_type": "markdown",
   "metadata": {},
   "source": [
    "经过上面的训练，你一定会很纳闷：\n",
    "- 没有告诉模型类别有几个\n",
    "- 没有指定任务迁移之后接续的几个层次的数量、大小、激活函数\n",
    "- 没有告诉网络损失函数是什么\n",
    "我几乎没有提供任何的信息，网络就开始训练了？\n",
    "\n",
    "对，不需要。\n",
    "\n",
    "因为 fastai 根据你输入的上述“数据”、“模型结构”和“损失度量”信息，自动帮你把这些闲七杂八的事情默默搞定了。\n",
    "\n",
    "下面再介绍一些训练的高级用法"
   ]
  },
  {
   "cell_type": "code",
   "execution_count": 25,
   "metadata": {},
   "outputs": [],
   "source": [
    "#从新生成一个数据集\n",
    "learn2 = cnn_learner(data, models.resnet18, metrics=accuracy)"
   ]
  },
  {
   "cell_type": "markdown",
   "metadata": {},
   "source": [
    "这里我们使用fit_one_cycle方法。\n",
    "\n",
    "fit_one_cycle使用的是一种周期性学习率，从较小的学习率开始学习，缓慢提高至较高的学习率，然后再慢慢下降，周而复始，每个周期的长度略微缩短，在训练的最后部分，允许学习率比之前的最小值降得更低。这不仅可以加速训练，还有助于防止模型落入损失平面的陡峭区域，使模型更倾向于寻找更平坦的极小值，从而缓解过拟合现象。"
   ]
  },
  {
   "cell_type": "code",
   "execution_count": 26,
   "metadata": {
    "scrolled": true
   },
   "outputs": [
    {
     "data": {
      "text/html": [
       "\n",
       "<style>\n",
       "    /* Turns off some styling */\n",
       "    progress {\n",
       "        /* gets rid of default border in Firefox and Opera. */\n",
       "        border: none;\n",
       "        /* Needs to be in here for Safari polyfill so background images work as expected. */\n",
       "        background-size: auto;\n",
       "    }\n",
       "    progress:not([value]), progress:not([value])::-webkit-progress-bar {\n",
       "        background: repeating-linear-gradient(45deg, #7e7e7e, #7e7e7e 10px, #5c5c5c 10px, #5c5c5c 20px);\n",
       "    }\n",
       "    .progress-bar-interrupted, .progress-bar-interrupted::-webkit-progress-bar {\n",
       "        background: #F44336;\n",
       "    }\n",
       "</style>\n"
      ],
      "text/plain": [
       "<IPython.core.display.HTML object>"
      ]
     },
     "metadata": {},
     "output_type": "display_data"
    },
    {
     "data": {
      "text/html": [
       "\n",
       "    <div>\n",
       "      <progress value='0' class='' max='1' style='width:300px; height:20px; vertical-align: middle;'></progress>\n",
       "      0.00% [0/1 00:00&lt;?]\n",
       "    </div>\n",
       "    \n",
       "<table border=\"1\" class=\"dataframe\">\n",
       "  <thead>\n",
       "    <tr style=\"text-align: left;\">\n",
       "      <th>epoch</th>\n",
       "      <th>train_loss</th>\n",
       "      <th>valid_loss</th>\n",
       "      <th>accuracy</th>\n",
       "      <th>time</th>\n",
       "    </tr>\n",
       "  </thead>\n",
       "  <tbody>\n",
       "  </tbody>\n",
       "</table><p>\n",
       "\n",
       "    <div>\n",
       "      <progress value='0' class='' max='193' style='width:300px; height:20px; vertical-align: middle;'></progress>\n",
       "      0.00% [0/193 00:00&lt;?]\n",
       "    </div>\n",
       "    "
      ],
      "text/plain": [
       "<IPython.core.display.HTML object>"
      ]
     },
     "metadata": {},
     "output_type": "display_data"
    }
   ],
   "source": [
    "learn2.fit_one_cycle(1)"
   ]
  },
  {
   "cell_type": "markdown",
   "metadata": {},
   "source": [
    "我们使用内置ShowGraph的方法直接打印训练的状态，如果我们需要更详细的状态，可以直接调用一下的方法："
   ]
  },
  {
   "cell_type": "code",
   "execution_count": 27,
   "metadata": {},
   "outputs": [
    {
     "ename": "AttributeError",
     "evalue": "'Sequential' object has no attribute 'plot_lr'",
     "output_type": "error",
     "traceback": [
      "\u001b[0;31m---------------------------------------------------------------------------\u001b[0m",
      "\u001b[0;31mAttributeError\u001b[0m                            Traceback (most recent call last)",
      "Cell \u001b[0;32mIn[27], line 2\u001b[0m\n\u001b[1;32m      1\u001b[0m \u001b[38;5;66;03m# 学习率的变更\u001b[39;00m\n\u001b[0;32m----> 2\u001b[0m \u001b[43mlearn2\u001b[49m\u001b[38;5;241;43m.\u001b[39;49m\u001b[43mrecorder\u001b[49m\u001b[38;5;241;43m.\u001b[39;49m\u001b[43mplot_lr\u001b[49m()\n",
      "File \u001b[0;32m~/miniconda3/envs/paddle_learn/lib/python3.8/site-packages/fastcore/basics.py:496\u001b[0m, in \u001b[0;36mGetAttr.__getattr__\u001b[0;34m(self, k)\u001b[0m\n\u001b[1;32m    494\u001b[0m \u001b[38;5;28;01mif\u001b[39;00m \u001b[38;5;28mself\u001b[39m\u001b[38;5;241m.\u001b[39m_component_attr_filter(k):\n\u001b[1;32m    495\u001b[0m     attr \u001b[38;5;241m=\u001b[39m \u001b[38;5;28mgetattr\u001b[39m(\u001b[38;5;28mself\u001b[39m,\u001b[38;5;28mself\u001b[39m\u001b[38;5;241m.\u001b[39m_default,\u001b[38;5;28;01mNone\u001b[39;00m)\n\u001b[0;32m--> 496\u001b[0m     \u001b[38;5;28;01mif\u001b[39;00m attr \u001b[38;5;129;01mis\u001b[39;00m \u001b[38;5;129;01mnot\u001b[39;00m \u001b[38;5;28;01mNone\u001b[39;00m: \u001b[38;5;28;01mreturn\u001b[39;00m \u001b[38;5;28;43mgetattr\u001b[39;49m\u001b[43m(\u001b[49m\u001b[43mattr\u001b[49m\u001b[43m,\u001b[49m\u001b[43mk\u001b[49m\u001b[43m)\u001b[49m\n\u001b[1;32m    497\u001b[0m \u001b[38;5;28;01mraise\u001b[39;00m \u001b[38;5;167;01mAttributeError\u001b[39;00m(k)\n",
      "File \u001b[0;32m~/miniconda3/envs/paddle_learn/lib/python3.8/site-packages/fastcore/basics.py:496\u001b[0m, in \u001b[0;36mGetAttr.__getattr__\u001b[0;34m(self, k)\u001b[0m\n\u001b[1;32m    494\u001b[0m \u001b[38;5;28;01mif\u001b[39;00m \u001b[38;5;28mself\u001b[39m\u001b[38;5;241m.\u001b[39m_component_attr_filter(k):\n\u001b[1;32m    495\u001b[0m     attr \u001b[38;5;241m=\u001b[39m \u001b[38;5;28mgetattr\u001b[39m(\u001b[38;5;28mself\u001b[39m,\u001b[38;5;28mself\u001b[39m\u001b[38;5;241m.\u001b[39m_default,\u001b[38;5;28;01mNone\u001b[39;00m)\n\u001b[0;32m--> 496\u001b[0m     \u001b[38;5;28;01mif\u001b[39;00m attr \u001b[38;5;129;01mis\u001b[39;00m \u001b[38;5;129;01mnot\u001b[39;00m \u001b[38;5;28;01mNone\u001b[39;00m: \u001b[38;5;28;01mreturn\u001b[39;00m \u001b[38;5;28;43mgetattr\u001b[39;49m\u001b[43m(\u001b[49m\u001b[43mattr\u001b[49m\u001b[43m,\u001b[49m\u001b[43mk\u001b[49m\u001b[43m)\u001b[49m\n\u001b[1;32m    497\u001b[0m \u001b[38;5;28;01mraise\u001b[39;00m \u001b[38;5;167;01mAttributeError\u001b[39;00m(k)\n",
      "File \u001b[0;32m~/miniconda3/envs/paddle_learn/lib/python3.8/site-packages/torch/nn/modules/module.py:1688\u001b[0m, in \u001b[0;36mModule.__getattr__\u001b[0;34m(self, name)\u001b[0m\n\u001b[1;32m   1686\u001b[0m     \u001b[38;5;28;01mif\u001b[39;00m name \u001b[38;5;129;01min\u001b[39;00m modules:\n\u001b[1;32m   1687\u001b[0m         \u001b[38;5;28;01mreturn\u001b[39;00m modules[name]\n\u001b[0;32m-> 1688\u001b[0m \u001b[38;5;28;01mraise\u001b[39;00m \u001b[38;5;167;01mAttributeError\u001b[39;00m(\u001b[38;5;124mf\u001b[39m\u001b[38;5;124m\"\u001b[39m\u001b[38;5;124m'\u001b[39m\u001b[38;5;132;01m{\u001b[39;00m\u001b[38;5;28mtype\u001b[39m(\u001b[38;5;28mself\u001b[39m)\u001b[38;5;241m.\u001b[39m\u001b[38;5;18m__name__\u001b[39m\u001b[38;5;132;01m}\u001b[39;00m\u001b[38;5;124m'\u001b[39m\u001b[38;5;124m object has no attribute \u001b[39m\u001b[38;5;124m'\u001b[39m\u001b[38;5;132;01m{\u001b[39;00mname\u001b[38;5;132;01m}\u001b[39;00m\u001b[38;5;124m'\u001b[39m\u001b[38;5;124m\"\u001b[39m)\n",
      "\u001b[0;31mAttributeError\u001b[0m: 'Sequential' object has no attribute 'plot_lr'"
     ]
    }
   ],
   "source": [
    "# 学习率的变更\n",
    "learn2.recorder.plot_lr()"
   ]
  },
  {
   "cell_type": "code",
   "execution_count": 12,
   "metadata": {},
   "outputs": [
    {
     "data": {
      "image/png": "[encoded data removed]",
      "text/plain": [
       "<Figure size 432x288 with 1 Axes>"
      ]
     },
     "metadata": {
      "needs_background": "light"
     },
     "output_type": "display_data"
    }
   ],
   "source": [
    "#损失\n",
    "learn2.recorder.plot_losses()"
   ]
  },
  {
   "cell_type": "code",
   "execution_count": 13,
   "metadata": {},
   "outputs": [
    {
     "data": {
      "text/html": [],
      "text/plain": [
       "<IPython.core.display.HTML object>"
      ]
     },
     "metadata": {},
     "output_type": "display_data"
    },
    {
     "name": "stdout",
     "output_type": "stream",
     "text": [
      "LR Finder is complete, type {learner_name}.recorder.plot() to see the graph.\n",
      "Min numerical gradient: 6.31E-07\n"
     ]
    },
    {
     "data": {
      "image/png": "[encoded data removed]",
      "text/plain": [
       "<Figure size 432x288 with 1 Axes>"
      ]
     },
     "metadata": {
      "needs_background": "light"
     },
     "output_type": "display_data"
    }
   ],
   "source": [
    "# 我们也可以使用lr_find()找到损失仍在明显改善最高学习率\n",
    "learn2.lr_find()\n",
    "learn2.recorder.plot()"
   ]
  },
  {
   "cell_type": "markdown",
   "metadata": {},
   "source": [
    "## 4.3.3 fastai文档翻译\n",
    "由于fastai的中文资料很少而且目前官方只提供英文的文档，所以如果谁有兴趣一起翻译的话可以联系我，如果人数够了的话可以组个团队一起翻译。"
   ]
  }
 ],
 "metadata": {
  "kernelspec": {
   "display_name": "paddle_learn",
   "language": "python",
   "name": "python3"
  },
  "language_info": {
   "codemirror_mode": {
    "name": "ipython",
    "version": 3
   },
   "file_extension": ".py",
   "mimetype": "text/x-python",
   "name": "python",
   "nbconvert_exporter": "python",
   "pygments_lexer": "ipython3",
   "version": "3.8.18"
  },
  "latex_envs": {
   "LaTeX_envs_menu_present": true,
   "autoclose": false,
   "autocomplete": true,
   "bibliofile": "biblio.bib",
   "cite_by": "apalike",
   "current_citInitial": 1,
   "eqLabelWithNumbers": true,
   "eqNumInitial": 1,
   "hotkeys": {
    "equation": "Ctrl-E",
    "itemize": "Ctrl-I"
   },
   "labels_anchors": false,
   "latex_user_defs": false,
   "report_style_numbering": false,
   "user_envs_cfg": false
  },
  "toc": {
   "base_numbering": 1,
   "nav_menu": {},
   "number_sections": false,
   "sideBar": true,
   "skip_h1_title": true,
   "title_cell": "Table of Contents",
   "title_sidebar": "Contents",
   "toc_cell": false,
   "toc_position": {
    "height": "calc(100% - 180px)",
    "left": "10px",
    "top": "150px",
    "width": "284px"
   },
   "toc_section_display": true,
   "toc_window_display": true
  }
 },
 "nbformat": 4,
 "nbformat_minor": 2
}
