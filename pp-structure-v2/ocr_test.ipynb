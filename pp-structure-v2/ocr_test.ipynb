{
 "cells": [
  {
   "cell_type": "markdown",
   "metadata": {
    "isInteractiveWindowMessageCell": true
   },
   "source": [
    "已连接到 paddle_env (Python 3.8.18)"
   ]
  },
  {
   "cell_type": "code",
   "execution_count": 1,
   "metadata": {},
   "outputs": [
    {
     "name": "stdout",
     "output_type": "stream",
     "text": [
      "environ({'SHELL': '/bin/bash', 'SSH_AUTH_SOCK': '/run/user/0/vscode-ssh-auth-sock-145043452', 'PWD': '/root', 'LOGNAME': 'root', 'XDG_SESSION_TYPE': 'tty', 'MOTD_SHOWN': 'pam', 'HOME': '/root', 'LANG': 'C.UTF-8', 'VSCODE_AGENT_FOLDER': '/root/.vscode-server', 'SSH_CONNECTION': '112.23.162.72 13995 172.17.253.149 22', 'XDG_SESSION_CLASS': 'user', 'USER': 'root', 'SHLVL': '3', 'XDG_SESSION_ID': '2087', 'LC_CTYPE': 'C.UTF-8', 'XDG_RUNTIME_DIR': '/run/user/0', 'SSH_CLIENT': '112.23.162.72 13995 22', 'DEBUGINFOD_URLS': '', 'XDG_DATA_DIRS': '/usr/local/share:/usr/share:/var/lib/snapd/desktop', 'PATH': '/root/miniconda3/envs/paddle_env/bin:/root/.vscode-server/bin/0ee08df0cf4527e40edc9aa28f4b5bd38bbff2b2/bin/remote-cli:/root/.local/bin:/root/miniconda3/envs/paddle_env/bin:/root/miniconda3/condabin:/usr/local/sbin:/usr/local/bin:/usr/sbin:/usr/bin:/sbin:/bin:/usr/games:/usr/local/games:/snap/bin', 'DBUS_SESSION_BUS_ADDRESS': 'unix:path=/run/user/0/bus', '_': '/root/miniconda3/envs/paddle_env/bin/python', 'VSCODE_HANDLES_SIGPIPE': 'true', 'CONDA_EXE': '/root/miniconda3/bin/conda', '_CE_M': '', 'CONDA_PREFIX': '/root/miniconda3/envs/paddle_env', 'LS_COLORS': '', 'CONDA_PROMPT_MODIFIER': '(paddle_env) ', 'CUDA_VISIBLE_DEVICES': '0', 'LESSCLOSE': '/usr/bin/lesspipe %s %s', '_CE_CONDA': '', 'LESSOPEN': '| /usr/bin/lesspipe %s', 'CONDA_SHLVL': '2', 'CONDA_PYTHON_EXE': '/root/miniconda3/bin/python', 'CONDA_DEFAULT_ENV': 'paddle_env', 'VSCODE_AMD_ENTRYPOINT': 'vs/workbench/api/node/extensionHostProcess', 'VSCODE_HANDLES_UNCAUGHT_ERRORS': 'true', 'VSCODE_NLS_CONFIG': '{\"locale\":\"zh-cn\",\"osLocale\":\"zh-cn\",\"availableLanguages\":{\"*\":\"zh-cn\"},\"_languagePackId\":\"b9fb41d736504d04093918c78fef1da1.zh-cn\",\"_translationsConfigFile\":\"/root/.vscode-server/data/clp/b9fb41d736504d04093918c78fef1da1.zh-cn/tcf.json\",\"_cacheRoot\":\"/root/.vscode-server/data/clp/b9fb41d736504d04093918c78fef1da1.zh-cn\",\"_resolvedLanguagePackCoreLocation\":\"/root/.vscode-server/data/clp/b9fb41d736504d04093918c78fef1da1.zh-cn/0ee08df0cf4527e40edc9aa28f4b5bd38bbff2b2\",\"_corruptedFile\":\"/root/.vscode-server/data/clp/b9fb41d736504d04093918c78fef1da1.zh-cn/corrupted.info\",\"_languagePackSupport\":true}', 'BROWSER': '/root/.vscode-server/bin/0ee08df0cf4527e40edc9aa28f4b5bd38bbff2b2/bin/helpers/browser.sh', 'VSCODE_CWD': '/root', 'ELECTRON_RUN_AS_NODE': '1', 'VSCODE_IPC_HOOK_CLI': '/run/user/0/vscode-ipc-5df5addb-838d-489a-8522-8d10545dc245.sock', 'VSCODE_L10N_BUNDLE_LOCATION': 'vscode-local:/Users/xupengfei/.vscode/extensions/ms-ceintl.vscode-language-pack-zh-hans-1.85.2023121309/translations/extensions/vscode.json-language-features.i18n.json', 'PYTHONUNBUFFERED': '1', 'CONDA_ROOT': '/root/miniconda3', 'PYTHONIOENCODING': 'utf-8', 'CONDA_PREFIX_1': '/root/miniconda3', 'PYDEVD_IPYTHON_COMPATIBLE_DEBUGGING': '1', 'PYDEVD_USE_FRAME_EVAL': 'NO', 'TERM': 'xterm-color', 'CLICOLOR': '1', 'FORCE_COLOR': '1', 'CLICOLOR_FORCE': '1', 'PAGER': 'cat', 'GIT_PAGER': 'cat', 'MPLBACKEND': 'module://matplotlib_inline.backend_inline'})\n"
     ]
    }
   ],
   "source": [
    "import os\n",
    "\n",
    "# 可以使用Python的os模块来获取并打印系统的环境变量。\n",
    "print(os.environ)"
   ]
  },
  {
   "cell_type": "code",
   "execution_count": 3,
   "metadata": {},
   "outputs": [
    {
     "name": "stdout",
     "output_type": "stream",
     "text": [
      "8901\n",
      "Running verify PaddlePaddle program ... \n",
      "PaddlePaddle works well on 1 GPU.\n",
      "PaddlePaddle is installed successfully! Let's start deep learning with PaddlePaddle now.\n"
     ]
    }
   ],
   "source": [
    "import paddle\n",
    "\n",
    "# 输出cudnn版本，如：8901，则正确\n",
    "print(paddle.device.get_cudnn_version())\n",
    "# 检查paddle是否安装成功\n",
    "paddle.utils.run_check()"
   ]
  },
  {
   "cell_type": "code",
   "execution_count": 1,
   "metadata": {},
   "outputs": [],
   "source": [
    "from paddleocr import PaddleOCR"
   ]
  },
  {
   "cell_type": "markdown",
   "metadata": {},
   "source": []
  }
 ],
 "metadata": {
  "kernelspec": {
   "display_name": "paddle_env",
   "language": "python",
   "name": "python3"
  },
  "language_info": {
   "codemirror_mode": {
    "name": "ipython",
    "version": 3
   },
   "file_extension": ".py",
   "mimetype": "text/x-python",
   "name": "python",
   "nbconvert_exporter": "python",
   "pygments_lexer": "ipython3",
   "version": "3.8.18"
  }
 },
 "nbformat": 4,
 "nbformat_minor": 2
}
